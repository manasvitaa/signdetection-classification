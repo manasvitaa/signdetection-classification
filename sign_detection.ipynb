{
  "nbformat": 4,
  "nbformat_minor": 0,
  "metadata": {
    "colab": {
      "name": "sign-detection.ipynb",
      "provenance": [],
      "collapsed_sections": []
    },
    "kernelspec": {
      "name": "python3",
      "display_name": "Python 3"
    },
    "language_info": {
      "name": "python"
    }
  },
  "cells": [
    {
      "cell_type": "code",
      "metadata": {
        "id": "T8zFZPbwJDvv",
        "colab": {
          "base_uri": "https://localhost:8080/"
        },
        "outputId": "6d657dd9-202b-41a9-885f-89ac20b9b5c8"
      },
      "source": [
        "from google.colab import drive\n",
        " \n",
        "drive.mount('/content/gdrive')"
      ],
      "execution_count": null,
      "outputs": [
        {
          "output_type": "stream",
          "text": [
            "Mounted at /content/gdrive\n"
          ],
          "name": "stdout"
        }
      ]
    },
    {
      "cell_type": "code",
      "metadata": {
        "id": "9jj_TrXjYal9"
      },
      "source": [
        "\n",
        "import numpy as np\n",
        "import pandas as pd\n",
        "import os\n",
        "import cv2\n",
        "import matplotlib.pyplot as plt\n",
        "import concurrent.futures\n",
        "import tensorflow as tf\n",
        "from tensorflow import keras\n",
        "from PIL import Image\n",
        "from sklearn.model_selection import train_test_split\n",
        "from tensorflow.keras.preprocessing.image import ImageDataGenerator\n",
        "from keras.models import Sequential, load_model\n",
        "from keras.layers import Conv2D, MaxPool2D, Dense, Flatten, Dropout\n",
        "from tensorflow.keras.optimizers import Adam\n",
        "from sklearn.metrics import accuracy_score\n",
        "np.random.seed(42)\n",
        "\n",
        "from matplotlib import style\n",
        "style.use('fivethirtyeight')"
      ],
      "execution_count": null,
      "outputs": []
    },
    {
      "cell_type": "code",
      "metadata": {
        "id": "qcUwpmhtZi1Q"
      },
      "source": [
        "data_dir = '/content/gdrive/MyDrive/Traffic_Signs'\n",
        "train_path = '/content/gdrive/MyDrive/Traffic_Signs/Train'\n",
        "test_path = '/content/gdrive/MyDrive/Traffic_Signs/Test'\n",
        "\n",
        "# Resizing the images to 30x30x3\n",
        "IMG_HEIGHT = 30\n",
        "IMG_WIDTH = 30\n",
        "channels = 3\n"
      ],
      "execution_count": null,
      "outputs": []
    },
    {
      "cell_type": "code",
      "metadata": {
        "colab": {
          "base_uri": "https://localhost:8080/"
        },
        "id": "tm-6-eAEaa1o",
        "outputId": "3216faf2-5fef-4f54-c4d4-92e341df035f"
      },
      "source": [
        "NUM_CATEGORIES = len(os.listdir(train_path))\n",
        "NUM_CATEGORIES"
      ],
      "execution_count": null,
      "outputs": [
        {
          "output_type": "execute_result",
          "data": {
            "text/plain": [
              "43"
            ]
          },
          "metadata": {
            "tags": []
          },
          "execution_count": 4
        }
      ]
    },
    {
      "cell_type": "code",
      "metadata": {
        "id": "H0ZM6sJUadcb"
      },
      "source": [
        "# Label Overview\n",
        "classes = { 0:'Speed limit (20km/h)',\n",
        "            1:'Speed limit (30km/h)', \n",
        "            2:'Speed limit (50km/h)', \n",
        "            3:'Speed limit (60km/h)', \n",
        "            4:'Speed limit (70km/h)', \n",
        "            5:'Speed limit (80km/h)', \n",
        "            6:'End of speed limit (80km/h)', \n",
        "            7:'Speed limit (100km/h)', \n",
        "            8:'Speed limit (120km/h)', \n",
        "            9:'No passing', \n",
        "            10:'No passing veh over 3.5 tons', \n",
        "            11:'Right-of-way at intersection', \n",
        "            12:'Priority road', \n",
        "            13:'Yield', \n",
        "            14:'Stop', \n",
        "            15:'No vehicles', \n",
        "            16:'Veh > 3.5 tons prohibited', \n",
        "            17:'No entry', \n",
        "            18:'General caution', \n",
        "            19:'Dangerous curve left', \n",
        "            20:'Dangerous curve right', \n",
        "            21:'Double curve', \n",
        "            22:'Bumpy road', \n",
        "            23:'Slippery road', \n",
        "            24:'Road narrows on the right', \n",
        "            25:'Road work', \n",
        "            26:'Traffic signals', \n",
        "            27:'Pedestrians', \n",
        "            28:'Children crossing', \n",
        "            29:'Bicycles crossing', \n",
        "            30:'Beware of ice/snow',\n",
        "            31:'Wild animals crossing', \n",
        "            32:'End speed + passing limits', \n",
        "            33:'Turn right ahead', \n",
        "            34:'Turn left ahead', \n",
        "            35:'Ahead only', \n",
        "            36:'Go straight or right', \n",
        "            37:'Go straight or left', \n",
        "            38:'Keep right', \n",
        "            39:'Keep left', \n",
        "            40:'Roundabout mandatory', \n",
        "            41:'End of no passing', \n",
        "            42:'End no passing veh > 3.5 tons' }"
      ],
      "execution_count": null,
      "outputs": []
    },
    {
      "cell_type": "code",
      "metadata": {
        "id": "lUVvSZupalme"
      },
      "source": [
        "folders = os.listdir(train_path)\n",
        "\n",
        "train_number = []\n",
        "class_num = []\n",
        "\n",
        "for folder in folders:\n",
        "    train_files = os.listdir(train_path + '/' + folder)\n",
        "    train_number.append(len(train_files))\n",
        "    class_num.append(classes[int(folder)])\n",
        "    \n",
        "# Sorting the dataset on the basis of number of images in each class\n",
        "zipped_lists = zip(train_number, class_num)\n",
        "sorted_pairs = sorted(zipped_lists)\n",
        "tuples = zip(*sorted_pairs)\n",
        "train_number, class_num = [ list(tuple) for tuple in  tuples]\n",
        "\n"
      ],
      "execution_count": null,
      "outputs": []
    },
    {
      "cell_type": "code",
      "metadata": {
        "id": "Uv2l7WfnbPft",
        "colab": {
          "base_uri": "https://localhost:8080/"
        },
        "outputId": "6785d6fd-f6ac-45ad-8d69-0fc60c5cd7db"
      },
      "source": [
        "image_data = []\n",
        "image_labels = []\n",
        "\n",
        "for i in range(NUM_CATEGORIES):\n",
        "    path = data_dir + '/Train/' + str(i)\n",
        "    images = os.listdir(path)\n",
        "\n",
        "    for img in images:\n",
        "        try:\n",
        "            image = Image.open(path + '/' + img)\n",
        "            image = image.resize((30,30))\n",
        "            image = np.array(image)\n",
        "            image_data.append(image)\n",
        "            image_labels.append(i)\n",
        "        except:\n",
        "            print(\"Error in \" + img)\n",
        "\n",
        "# Changing the list to numpy array\n",
        "image_data = np.array(image_data)\n",
        "image_labels = np.array(image_labels)\n",
        "\n",
        "print(image_data.shape, image_labels.shape)"
      ],
      "execution_count": null,
      "outputs": [
        {
          "output_type": "stream",
          "text": [
            "(28951, 30, 30, 3) (28951,)\n"
          ],
          "name": "stdout"
        }
      ]
    },
    {
      "cell_type": "code",
      "metadata": {
        "colab": {
          "base_uri": "https://localhost:8080/"
        },
        "id": "V9xbs-OnduEh",
        "outputId": "b56d05a1-41c1-4dc1-979c-440238768133"
      },
      "source": [
        "X_train, X_val, y_train, y_val = train_test_split(image_data, image_labels, test_size=0.1, random_state=42, shuffle=True)\n",
        "\n",
        "X_train = X_train/255 \n",
        "X_val = X_val/255\n",
        "\n",
        "print(\"X_train.shape\", X_train.shape)\n",
        "print(\"X_valid.shape\", X_val.shape)\n",
        "print(\"y_train.shape\", y_train.shape)\n",
        "print(\"y_valid.shape\", y_val.shape)\n"
      ],
      "execution_count": null,
      "outputs": [
        {
          "output_type": "stream",
          "text": [
            "X_train.shape (26055, 30, 30, 3)\n",
            "X_valid.shape (2896, 30, 30, 3)\n",
            "y_train.shape (26055,)\n",
            "y_valid.shape (2896,)\n"
          ],
          "name": "stdout"
        }
      ]
    },
    {
      "cell_type": "code",
      "metadata": {
        "colab": {
          "base_uri": "https://localhost:8080/"
        },
        "id": "94FKU04Rdurc",
        "outputId": "11e393d7-c1d1-4b01-e290-e6ea0a21cf02"
      },
      "source": [
        "y_train = keras.utils.to_categorical(y_train, NUM_CATEGORIES)\n",
        "y_val = keras.utils.to_categorical(y_val, NUM_CATEGORIES)\n",
        "\n",
        "print(y_train.shape)\n",
        "print(y_val.shape)"
      ],
      "execution_count": null,
      "outputs": [
        {
          "output_type": "stream",
          "text": [
            "(26055, 43)\n",
            "(2896, 43)\n"
          ],
          "name": "stdout"
        }
      ]
    },
    {
      "cell_type": "code",
      "metadata": {
        "id": "4W8f2RGgd1nz"
      },
      "source": [
        "\n",
        "model = Sequential()\n",
        "model.add(Conv2D(filters=32, kernel_size=(5,5), activation='relu', input_shape=X_train.shape[1:]))\n",
        "model.add(Conv2D(filters=32, kernel_size=(5,5), activation='relu'))\n",
        "model.add(MaxPool2D(pool_size=(2, 2)))\n",
        "model.add(Dropout(rate=0.25))\n",
        "model.add(Conv2D(filters=64, kernel_size=(3, 3), activation='relu'))\n",
        "model.add(Conv2D(filters=64, kernel_size=(3, 3), activation='relu'))\n",
        "model.add(MaxPool2D(pool_size=(2, 2)))\n",
        "model.add(Dropout(rate=0.25))\n",
        "model.add(Flatten())\n",
        "model.add(Dense(256, activation='relu'))\n",
        "model.add(Dropout(rate=0.5))\n",
        "# We have 43 classes that's why we have defined 43 in the dense\n",
        "model.add(Dense(43, activation='softmax'))\n",
        "\n",
        "\n",
        "\n",
        "\n",
        "#model = Sequential()\n",
        "#model.add(VGG19(weights='imagenet', include_top=False, input_shape=(50,50,3)))\n",
        "#model.add(BatchNormalization())\n",
        "#model.add(Flatten())\n",
        "#model.add(Dense(1024, activation='sigmoid'))\n",
        "#model.add(Dense(43, activation='softmax'))\n",
        "\n",
        "#results(model)\n",
        "\n",
        "\n",
        "\n",
        "#add_model = Sequential()\n",
        "#add_model.add(Flatten(input_shape=vgg16.output_shape[1:]))\n",
        "\n",
        "#add_model.add(Dense(1024, activation='relu'))\n",
        "\n",
        "\n",
        "\n",
        "#add_model.add(Dense(y_train.shape[1], activation='softmax'))\n",
        "\n",
        "#model = Model(inputs=vgg16.input, outputs=add_model(vgg16.output))\n",
        "#learning_rate = 0.0001\n",
        "#def results(model):\n",
        "  #adam = Adam(lr=learning_rate)\n",
        "# tell the model what cost and optimization method to use\n",
        "#model.compile(\n",
        "  #loss='categorical_crossentropy',\n",
        "  #optimizer='adam',\n",
        "  #metrics=['accuracy']\n",
        "#)"
      ],
      "execution_count": null,
      "outputs": []
    },
    {
      "cell_type": "code",
      "metadata": {
        "id": "NmNuq9HoBkiN"
      },
      "source": [
        "\n",
        "model.compile(loss='categorical_crossentropy', optimizer='adam', metrics=['accuracy'])"
      ],
      "execution_count": null,
      "outputs": []
    },
    {
      "cell_type": "code",
      "metadata": {
        "id": "d5ULRtTkB5s6"
      },
      "source": [
        "aug = ImageDataGenerator(\n",
        "    rotation_range=10,\n",
        "    zoom_range=0.15,\n",
        "    width_shift_range=0.1,\n",
        "    height_shift_range=0.1,\n",
        "    shear_range=0.15,\n",
        "    horizontal_flip=False,\n",
        "    vertical_flip=False,\n",
        "    fill_mode=\"nearest\")"
      ],
      "execution_count": null,
      "outputs": []
    },
    {
      "cell_type": "code",
      "metadata": {
        "colab": {
          "base_uri": "https://localhost:8080/"
        },
        "id": "tJdcW_cUn7gJ",
        "outputId": "5e202226-4049-4d02-8816-5c3fdcecd06b"
      },
      "source": [
        "batch_size = 32\n",
        "epochs = 15\n",
        "\n",
        "history = model.fit(aug.flow(X_train, y_train, batch_size=32), epochs=epochs, validation_data=(X_val, y_val))"
      ],
      "execution_count": null,
      "outputs": [
        {
          "output_type": "stream",
          "text": [
            "Epoch 1/15\n",
            "815/815 [==============================] - 119s 145ms/step - loss: 2.7064 - accuracy: 0.2415 - val_loss: 0.6084 - val_accuracy: 0.8367\n",
            "Epoch 2/15\n",
            "815/815 [==============================] - 115s 140ms/step - loss: 0.8156 - accuracy: 0.7399 - val_loss: 0.1447 - val_accuracy: 0.9454\n",
            "Epoch 3/15\n",
            "815/815 [==============================] - 114s 140ms/step - loss: 0.4315 - accuracy: 0.8641 - val_loss: 0.0585 - val_accuracy: 0.9845\n",
            "Epoch 4/15\n",
            "815/815 [==============================] - 114s 140ms/step - loss: 0.2900 - accuracy: 0.9089 - val_loss: 0.0280 - val_accuracy: 0.9945\n",
            "Epoch 5/15\n",
            "815/815 [==============================] - 114s 139ms/step - loss: 0.2112 - accuracy: 0.9333 - val_loss: 0.0200 - val_accuracy: 0.9941\n",
            "Epoch 6/15\n",
            "815/815 [==============================] - 116s 143ms/step - loss: 0.1799 - accuracy: 0.9459 - val_loss: 0.0213 - val_accuracy: 0.9934\n",
            "Epoch 7/15\n",
            "815/815 [==============================] - 115s 142ms/step - loss: 0.1542 - accuracy: 0.9525 - val_loss: 0.0133 - val_accuracy: 0.9965\n",
            "Epoch 8/15\n",
            "815/815 [==============================] - 115s 141ms/step - loss: 0.1296 - accuracy: 0.9579 - val_loss: 0.0189 - val_accuracy: 0.9948\n",
            "Epoch 9/15\n",
            "815/815 [==============================] - 113s 139ms/step - loss: 0.1342 - accuracy: 0.9613 - val_loss: 0.0175 - val_accuracy: 0.9941\n",
            "Epoch 10/15\n",
            "815/815 [==============================] - 113s 139ms/step - loss: 0.1105 - accuracy: 0.9668 - val_loss: 0.0062 - val_accuracy: 0.9990\n",
            "Epoch 11/15\n",
            "815/815 [==============================] - 113s 139ms/step - loss: 0.1026 - accuracy: 0.9684 - val_loss: 0.0059 - val_accuracy: 0.9986\n",
            "Epoch 12/15\n",
            "815/815 [==============================] - 113s 139ms/step - loss: 0.0880 - accuracy: 0.9735 - val_loss: 0.0060 - val_accuracy: 0.9990\n",
            "Epoch 13/15\n",
            "815/815 [==============================] - 113s 138ms/step - loss: 0.0966 - accuracy: 0.9710 - val_loss: 0.0075 - val_accuracy: 0.9976\n",
            "Epoch 14/15\n",
            "815/815 [==============================] - 113s 139ms/step - loss: 0.0936 - accuracy: 0.9734 - val_loss: 0.0083 - val_accuracy: 0.9976\n",
            "Epoch 15/15\n",
            "815/815 [==============================] - 113s 139ms/step - loss: 0.0876 - accuracy: 0.9743 - val_loss: 0.0046 - val_accuracy: 0.9990\n"
          ],
          "name": "stdout"
        }
      ]
    },
    {
      "cell_type": "code",
      "metadata": {
        "colab": {
          "base_uri": "https://localhost:8080/",
          "height": 346
        },
        "id": "2xmVbnV4GheR",
        "outputId": "b05465bf-bdfb-491f-f0ad-6e378898f6d4"
      },
      "source": [
        "pd.DataFrame(history.history).plot(figsize=(8, 5))\n",
        "plt.grid(True)\n",
        "plt.gca().set_ylim(0, 1)\n",
        "plt.show()"
      ],
      "execution_count": null,
      "outputs": [
        {
          "output_type": "display_data",
          "data": {
            "image/png": "[encoded data removed]",
            "text/plain": [
              "<Figure size 576x360 with 1 Axes>"
            ]
          },
          "metadata": {
            "tags": []
          }
        }
      ]
    },
    {
      "cell_type": "code",
      "metadata": {
        "id": "p7ogH15AGjxx"
      },
      "source": [
        "import random\n",
        "from matplotlib.image import imread\n",
        "def testing(testcsv):\n",
        "    y_test = pd.read_csv(testcsv + '/Test.csv')\n",
        "    label = y_test[\"ClassId\"].values\n",
        "    imgs = '/content/gdrive/MyDrive/Traffic_Signs/' + y_test[\"Path\"].values \n",
        "    data=[]\n",
        "    for img in imgs:\n",
        "        image = Image.open(img)\n",
        "        image = image.resize((30,30))\n",
        "        data.append(np.array(image))\n",
        "    X_test=np.array(data)\n",
        "    return X_test,label\n"
      ],
      "execution_count": null,
      "outputs": []
    },
    {
      "cell_type": "code",
      "metadata": {
        "id": "R9fXx5SWkGMy"
      },
      "source": [
        "testcsv = '/content/gdrive/MyDrive/Traffic_Signs'\n",
        "X_test, label = testing(testcsv)"
      ],
      "execution_count": null,
      "outputs": []
    },
    {
      "cell_type": "code",
      "metadata": {
        "colab": {
          "base_uri": "https://localhost:8080/"
        },
        "id": "Hxu4QYWbaFS4",
        "outputId": "cf8c3e4c-57c3-4fc3-d4d2-4e18a7fbef66"
      },
      "source": [
        "Y_pred = model.predict_classes(X_test)\n",
        "Y_pred"
      ],
      "execution_count": null,
      "outputs": [
        {
          "output_type": "stream",
          "text": [
            "/usr/local/lib/python3.7/dist-packages/tensorflow/python/keras/engine/sequential.py:450: UserWarning: `model.predict_classes()` is deprecated and will be removed after 2021-01-01. Please use instead:* `np.argmax(model.predict(x), axis=-1)`,   if your model does multi-class classification   (e.g. if it uses a `softmax` last-layer activation).* `(model.predict(x) > 0.5).astype(\"int32\")`,   if your model does binary classification   (e.g. if it uses a `sigmoid` last-layer activation).\n",
            "  warnings.warn('`model.predict_classes()` is deprecated and '\n"
          ],
          "name": "stderr"
        },
        {
          "output_type": "execute_result",
          "data": {
            "text/plain": [
              "array([16,  1, 38, ...,  0,  2, 13])"
            ]
          },
          "metadata": {
            "tags": []
          },
          "execution_count": 39
        }
      ]
    }
  ]
}